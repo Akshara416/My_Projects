{
 "cells": [
  {
   "cell_type": "code",
   "execution_count": 1,
   "metadata": {},
   "outputs": [],
   "source": [
    "#Packages required\n",
    "#!pip install speechrecognition\n",
    "#!pip install pyaudio"
   ]
  },
  {
   "cell_type": "code",
   "execution_count": 12,
   "metadata": {},
   "outputs": [],
   "source": [
    "import speech_recognition as SRG\n",
    "import time"
   ]
  },
  {
   "cell_type": "code",
   "execution_count": 24,
   "metadata": {},
   "outputs": [
    {
     "name": "stdout",
     "output_type": "stream",
     "text": [
      "Speak something....\n",
      "Recording time: 07:20:48\n",
      "Text converted from audio:\n",
      "\n",
      "hello\n",
      "Finshed!!\n",
      "Execution time: 07:20:50\n"
     ]
    }
   ],
   "source": [
    "store = SRG.Recognizer()\n",
    "with SRG.Microphone() as s:\n",
    "    \n",
    "    print(\"Speak something....\")\n",
    "    \n",
    "    audio_input = store.record(s,duration=10)\n",
    "    print(\"Recording time:\",time.strftime(\"%I:%M:%S\"))\n",
    "    \n",
    "    try:\n",
    "        text_output = store.recognize_google(audio_input)\n",
    "        print(\"Text converted from audio:\\n\")\n",
    "        print(text_output)\n",
    "        print(\"Finshed!!\")\n",
    "        \n",
    "        print(\"Execution time:\", time.strftime(\"%I:%M:%S\"))\n",
    "    \n",
    "    except:\n",
    "        print(\"Couldn't process the audio\")"
   ]
  },
  {
   "cell_type": "code",
   "execution_count": null,
   "metadata": {},
   "outputs": [],
   "source": []
  }
 ],
 "metadata": {
  "kernelspec": {
   "display_name": "Python 3",
   "language": "python",
   "name": "python3"
  },
  "language_info": {
   "codemirror_mode": {
    "name": "ipython",
    "version": 3
   },
   "file_extension": ".py",
   "mimetype": "text/x-python",
   "name": "python",
   "nbconvert_exporter": "python",
   "pygments_lexer": "ipython3",
   "version": "3.7.4"
  }
 },
 "nbformat": 4,
 "nbformat_minor": 2
}
