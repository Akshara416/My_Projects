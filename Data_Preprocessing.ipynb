{
 "cells": [
  {
   "cell_type": "code",
   "execution_count": 1,
   "metadata": {},
   "outputs": [],
   "source": [
    "import pandas as pd"
   ]
  },
  {
   "cell_type": "code",
   "execution_count": 7,
   "metadata": {},
   "outputs": [],
   "source": [
    "df = pd.read_csv('DataCaseDataset.csv',delimiter=\";\")"
   ]
  },
  {
   "cell_type": "code",
   "execution_count": 8,
   "metadata": {},
   "outputs": [
    {
     "data": {
      "text/plain": [
       "(1470, 21)"
      ]
     },
     "execution_count": 8,
     "metadata": {},
     "output_type": "execute_result"
    }
   ],
   "source": [
    "df.shape"
   ]
  },
  {
   "cell_type": "code",
   "execution_count": 9,
   "metadata": {},
   "outputs": [
    {
     "data": {
      "text/plain": [
       "Index(['EmployeeID', 'Gender', 'Age', 'Education', 'EducationType',\n",
       "       'MaritalStatus', 'TotalCompanies', 'TotalExperience',\n",
       "       'DistanceToOffice', 'Department', 'Traveltype_last_year', 'BillingRate',\n",
       "       'MonthlyIncome', 'Years_at_Company', 'Years_InCurrentRole',\n",
       "       'LastSalaryHike', 'PotentialReview', 'PerformanceReview',\n",
       "       'SatisfactionScore', 'JobRole_SatisfactionScore',\n",
       "       'Overall_SatisfactionScore'],\n",
       "      dtype='object')"
      ]
     },
     "execution_count": 9,
     "metadata": {},
     "output_type": "execute_result"
    }
   ],
   "source": [
    "df.columns"
   ]
  },
  {
   "cell_type": "code",
   "execution_count": 10,
   "metadata": {},
   "outputs": [
    {
     "data": {
      "text/html": [
       "<div>\n",
       "<style scoped>\n",
       "    .dataframe tbody tr th:only-of-type {\n",
       "        vertical-align: middle;\n",
       "    }\n",
       "\n",
       "    .dataframe tbody tr th {\n",
       "        vertical-align: top;\n",
       "    }\n",
       "\n",
       "    .dataframe thead th {\n",
       "        text-align: right;\n",
       "    }\n",
       "</style>\n",
       "<table border=\"1\" class=\"dataframe\">\n",
       "  <thead>\n",
       "    <tr style=\"text-align: right;\">\n",
       "      <th></th>\n",
       "      <th>EmployeeID</th>\n",
       "      <th>Gender</th>\n",
       "      <th>Age</th>\n",
       "      <th>Education</th>\n",
       "      <th>EducationType</th>\n",
       "      <th>MaritalStatus</th>\n",
       "      <th>TotalCompanies</th>\n",
       "      <th>TotalExperience</th>\n",
       "      <th>DistanceToOffice</th>\n",
       "      <th>Department</th>\n",
       "      <th>...</th>\n",
       "      <th>BillingRate</th>\n",
       "      <th>MonthlyIncome</th>\n",
       "      <th>Years_at_Company</th>\n",
       "      <th>Years_InCurrentRole</th>\n",
       "      <th>LastSalaryHike</th>\n",
       "      <th>PotentialReview</th>\n",
       "      <th>PerformanceReview</th>\n",
       "      <th>SatisfactionScore</th>\n",
       "      <th>JobRole_SatisfactionScore</th>\n",
       "      <th>Overall_SatisfactionScore</th>\n",
       "    </tr>\n",
       "  </thead>\n",
       "  <tbody>\n",
       "    <tr>\n",
       "      <td>0</td>\n",
       "      <td>AB0001</td>\n",
       "      <td>Male</td>\n",
       "      <td>24.0</td>\n",
       "      <td>Graduation</td>\n",
       "      <td>Economics</td>\n",
       "      <td>Married</td>\n",
       "      <td>8.0</td>\n",
       "      <td>7.0</td>\n",
       "      <td>9.0</td>\n",
       "      <td>ClientSolutions</td>\n",
       "      <td>...</td>\n",
       "      <td>73.0</td>\n",
       "      <td>2718.00000</td>\n",
       "      <td>1.0</td>\n",
       "      <td>0.0</td>\n",
       "      <td>19</td>\n",
       "      <td>Very High</td>\n",
       "      <td>Met Expectations</td>\n",
       "      <td>Passive</td>\n",
       "      <td>Passive</td>\n",
       "      <td>Detractor</td>\n",
       "    </tr>\n",
       "    <tr>\n",
       "      <td>1</td>\n",
       "      <td>AB0002</td>\n",
       "      <td>Female</td>\n",
       "      <td>36.0</td>\n",
       "      <td>Masters / PHD</td>\n",
       "      <td>Economics</td>\n",
       "      <td>Single</td>\n",
       "      <td>8.0</td>\n",
       "      <td>22.0</td>\n",
       "      <td>2.0</td>\n",
       "      <td>ClientSolutions</td>\n",
       "      <td>...</td>\n",
       "      <td>36.0</td>\n",
       "      <td>6577.00000</td>\n",
       "      <td>20.0</td>\n",
       "      <td>9.0</td>\n",
       "      <td>15</td>\n",
       "      <td>Very High</td>\n",
       "      <td>Met Expectations</td>\n",
       "      <td>Detractor</td>\n",
       "      <td>Detractor</td>\n",
       "      <td>Promoter</td>\n",
       "    </tr>\n",
       "    <tr>\n",
       "      <td>2</td>\n",
       "      <td>AB0003</td>\n",
       "      <td>Male</td>\n",
       "      <td>33.0</td>\n",
       "      <td>Masters / PHD</td>\n",
       "      <td>Marketing / Finance</td>\n",
       "      <td>Divorced</td>\n",
       "      <td>NaN</td>\n",
       "      <td>8.0</td>\n",
       "      <td>24.0</td>\n",
       "      <td>ClientSolutions</td>\n",
       "      <td>...</td>\n",
       "      <td>28.0</td>\n",
       "      <td>2995.00000</td>\n",
       "      <td>7.0</td>\n",
       "      <td>5.0</td>\n",
       "      <td>18</td>\n",
       "      <td>Low</td>\n",
       "      <td>Met Expectations</td>\n",
       "      <td>Passive</td>\n",
       "      <td>Passive</td>\n",
       "      <td>Passive</td>\n",
       "    </tr>\n",
       "    <tr>\n",
       "      <td>3</td>\n",
       "      <td>AB0004</td>\n",
       "      <td>Male</td>\n",
       "      <td>21.0</td>\n",
       "      <td>Graduation</td>\n",
       "      <td>Marketing / Finance</td>\n",
       "      <td>Divorced</td>\n",
       "      <td>1.0</td>\n",
       "      <td>1.0</td>\n",
       "      <td>20.0</td>\n",
       "      <td>ClientSolutions</td>\n",
       "      <td>...</td>\n",
       "      <td>161.0</td>\n",
       "      <td>7162.36922</td>\n",
       "      <td>1.0</td>\n",
       "      <td>1.0</td>\n",
       "      <td>20</td>\n",
       "      <td>High</td>\n",
       "      <td>Exceed Expectations</td>\n",
       "      <td>Detractor</td>\n",
       "      <td>Passive</td>\n",
       "      <td>Passive</td>\n",
       "    </tr>\n",
       "    <tr>\n",
       "      <td>4</td>\n",
       "      <td>AB0005</td>\n",
       "      <td>Male</td>\n",
       "      <td>39.0</td>\n",
       "      <td>Graduation</td>\n",
       "      <td>Economics</td>\n",
       "      <td>Single</td>\n",
       "      <td>3.0</td>\n",
       "      <td>25.0</td>\n",
       "      <td>6.0</td>\n",
       "      <td>ClientSolutions</td>\n",
       "      <td>...</td>\n",
       "      <td>34.0</td>\n",
       "      <td>4674.00000</td>\n",
       "      <td>3.0</td>\n",
       "      <td>3.0</td>\n",
       "      <td>16</td>\n",
       "      <td>Medium</td>\n",
       "      <td>Met Expectations</td>\n",
       "      <td>Detractor</td>\n",
       "      <td>Passive</td>\n",
       "      <td>Promoter</td>\n",
       "    </tr>\n",
       "  </tbody>\n",
       "</table>\n",
       "<p>5 rows × 21 columns</p>\n",
       "</div>"
      ],
      "text/plain": [
       "  EmployeeID  Gender   Age      Education        EducationType MaritalStatus  \\\n",
       "0     AB0001    Male  24.0     Graduation            Economics       Married   \n",
       "1     AB0002  Female  36.0  Masters / PHD            Economics        Single   \n",
       "2     AB0003    Male  33.0  Masters / PHD  Marketing / Finance      Divorced   \n",
       "3     AB0004    Male  21.0     Graduation  Marketing / Finance      Divorced   \n",
       "4     AB0005    Male  39.0     Graduation            Economics        Single   \n",
       "\n",
       "   TotalCompanies  TotalExperience  DistanceToOffice       Department  ...  \\\n",
       "0             8.0              7.0               9.0  ClientSolutions  ...   \n",
       "1             8.0             22.0               2.0  ClientSolutions  ...   \n",
       "2             NaN              8.0              24.0  ClientSolutions  ...   \n",
       "3             1.0              1.0              20.0  ClientSolutions  ...   \n",
       "4             3.0             25.0               6.0  ClientSolutions  ...   \n",
       "\n",
       "  BillingRate  MonthlyIncome  Years_at_Company  Years_InCurrentRole  \\\n",
       "0        73.0     2718.00000               1.0                  0.0   \n",
       "1        36.0     6577.00000              20.0                  9.0   \n",
       "2        28.0     2995.00000               7.0                  5.0   \n",
       "3       161.0     7162.36922               1.0                  1.0   \n",
       "4        34.0     4674.00000               3.0                  3.0   \n",
       "\n",
       "   LastSalaryHike  PotentialReview    PerformanceReview SatisfactionScore  \\\n",
       "0              19        Very High     Met Expectations           Passive   \n",
       "1              15        Very High     Met Expectations         Detractor   \n",
       "2              18              Low     Met Expectations           Passive   \n",
       "3              20             High  Exceed Expectations         Detractor   \n",
       "4              16           Medium     Met Expectations         Detractor   \n",
       "\n",
       "  JobRole_SatisfactionScore Overall_SatisfactionScore  \n",
       "0                   Passive                 Detractor  \n",
       "1                 Detractor                  Promoter  \n",
       "2                   Passive                   Passive  \n",
       "3                   Passive                   Passive  \n",
       "4                   Passive                  Promoter  \n",
       "\n",
       "[5 rows x 21 columns]"
      ]
     },
     "execution_count": 10,
     "metadata": {},
     "output_type": "execute_result"
    }
   ],
   "source": [
    "df.head()"
   ]
  },
  {
   "cell_type": "code",
   "execution_count": 35,
   "metadata": {},
   "outputs": [
    {
     "data": {
      "text/html": [
       "<div>\n",
       "<style scoped>\n",
       "    .dataframe tbody tr th:only-of-type {\n",
       "        vertical-align: middle;\n",
       "    }\n",
       "\n",
       "    .dataframe tbody tr th {\n",
       "        vertical-align: top;\n",
       "    }\n",
       "\n",
       "    .dataframe thead th {\n",
       "        text-align: right;\n",
       "    }\n",
       "</style>\n",
       "<table border=\"1\" class=\"dataframe\">\n",
       "  <thead>\n",
       "    <tr style=\"text-align: right;\">\n",
       "      <th></th>\n",
       "      <th>Age</th>\n",
       "      <th>TotalCompanies</th>\n",
       "      <th>TotalExperience</th>\n",
       "      <th>DistanceToOffice</th>\n",
       "      <th>BillingRate</th>\n",
       "      <th>MonthlyIncome</th>\n",
       "      <th>Years_at_Company</th>\n",
       "      <th>Years_InCurrentRole</th>\n",
       "      <th>LastSalaryHike</th>\n",
       "    </tr>\n",
       "  </thead>\n",
       "  <tbody>\n",
       "    <tr>\n",
       "      <td>count</td>\n",
       "      <td>1461.000000</td>\n",
       "      <td>1453.000000</td>\n",
       "      <td>1455.000000</td>\n",
       "      <td>1421.000000</td>\n",
       "      <td>1445.000000</td>\n",
       "      <td>1461.000000</td>\n",
       "      <td>1252.000000</td>\n",
       "      <td>1279.000000</td>\n",
       "      <td>1461.000000</td>\n",
       "    </tr>\n",
       "    <tr>\n",
       "      <td>mean</td>\n",
       "      <td>31.290897</td>\n",
       "      <td>3.519615</td>\n",
       "      <td>14.426117</td>\n",
       "      <td>8.898100</td>\n",
       "      <td>102.505882</td>\n",
       "      <td>6745.796341</td>\n",
       "      <td>9.054313</td>\n",
       "      <td>5.533229</td>\n",
       "      <td>17.112936</td>\n",
       "    </tr>\n",
       "    <tr>\n",
       "      <td>std</td>\n",
       "      <td>8.530901</td>\n",
       "      <td>3.038854</td>\n",
       "      <td>9.382364</td>\n",
       "      <td>7.760044</td>\n",
       "      <td>53.391210</td>\n",
       "      <td>4110.165842</td>\n",
       "      <td>7.739582</td>\n",
       "      <td>4.651412</td>\n",
       "      <td>2.514120</td>\n",
       "    </tr>\n",
       "    <tr>\n",
       "      <td>min</td>\n",
       "      <td>16.000000</td>\n",
       "      <td>1.000000</td>\n",
       "      <td>1.000000</td>\n",
       "      <td>1.000000</td>\n",
       "      <td>12.000000</td>\n",
       "      <td>2342.350000</td>\n",
       "      <td>0.000000</td>\n",
       "      <td>0.000000</td>\n",
       "      <td>14.000000</td>\n",
       "    </tr>\n",
       "    <tr>\n",
       "      <td>25%</td>\n",
       "      <td>25.000000</td>\n",
       "      <td>1.000000</td>\n",
       "      <td>8.000000</td>\n",
       "      <td>2.000000</td>\n",
       "      <td>58.000000</td>\n",
       "      <td>3248.000000</td>\n",
       "      <td>4.000000</td>\n",
       "      <td>3.000000</td>\n",
       "      <td>15.000000</td>\n",
       "    </tr>\n",
       "    <tr>\n",
       "      <td>50%</td>\n",
       "      <td>30.000000</td>\n",
       "      <td>3.000000</td>\n",
       "      <td>13.000000</td>\n",
       "      <td>7.000000</td>\n",
       "      <td>101.000000</td>\n",
       "      <td>5503.000000</td>\n",
       "      <td>7.000000</td>\n",
       "      <td>4.000000</td>\n",
       "      <td>16.000000</td>\n",
       "    </tr>\n",
       "    <tr>\n",
       "      <td>75%</td>\n",
       "      <td>37.000000</td>\n",
       "      <td>5.000000</td>\n",
       "      <td>20.000000</td>\n",
       "      <td>14.000000</td>\n",
       "      <td>146.000000</td>\n",
       "      <td>8993.000000</td>\n",
       "      <td>13.000000</td>\n",
       "      <td>9.000000</td>\n",
       "      <td>19.000000</td>\n",
       "    </tr>\n",
       "    <tr>\n",
       "      <td>max</td>\n",
       "      <td>48.000000</td>\n",
       "      <td>10.000000</td>\n",
       "      <td>36.000000</td>\n",
       "      <td>26.600000</td>\n",
       "      <td>225.000000</td>\n",
       "      <td>15085.300000</td>\n",
       "      <td>52.000000</td>\n",
       "      <td>23.000000</td>\n",
       "      <td>24.000000</td>\n",
       "    </tr>\n",
       "  </tbody>\n",
       "</table>\n",
       "</div>"
      ],
      "text/plain": [
       "               Age  TotalCompanies  TotalExperience  DistanceToOffice  \\\n",
       "count  1461.000000     1453.000000      1455.000000       1421.000000   \n",
       "mean     31.290897        3.519615        14.426117          8.898100   \n",
       "std       8.530901        3.038854         9.382364          7.760044   \n",
       "min      16.000000        1.000000         1.000000          1.000000   \n",
       "25%      25.000000        1.000000         8.000000          2.000000   \n",
       "50%      30.000000        3.000000        13.000000          7.000000   \n",
       "75%      37.000000        5.000000        20.000000         14.000000   \n",
       "max      48.000000       10.000000        36.000000         26.600000   \n",
       "\n",
       "       BillingRate  MonthlyIncome  Years_at_Company  Years_InCurrentRole  \\\n",
       "count  1445.000000    1461.000000       1252.000000          1279.000000   \n",
       "mean    102.505882    6745.796341          9.054313             5.533229   \n",
       "std      53.391210    4110.165842          7.739582             4.651412   \n",
       "min      12.000000    2342.350000          0.000000             0.000000   \n",
       "25%      58.000000    3248.000000          4.000000             3.000000   \n",
       "50%     101.000000    5503.000000          7.000000             4.000000   \n",
       "75%     146.000000    8993.000000         13.000000             9.000000   \n",
       "max     225.000000   15085.300000         52.000000            23.000000   \n",
       "\n",
       "       LastSalaryHike  \n",
       "count     1461.000000  \n",
       "mean        17.112936  \n",
       "std          2.514120  \n",
       "min         14.000000  \n",
       "25%         15.000000  \n",
       "50%         16.000000  \n",
       "75%         19.000000  \n",
       "max         24.000000  "
      ]
     },
     "execution_count": 35,
     "metadata": {},
     "output_type": "execute_result"
    }
   ],
   "source": [
    "df.describe()"
   ]
  },
  {
   "cell_type": "code",
   "execution_count": 12,
   "metadata": {},
   "outputs": [
    {
     "name": "stdout",
     "output_type": "stream",
     "text": [
      "<class 'pandas.core.frame.DataFrame'>\n",
      "RangeIndex: 1470 entries, 0 to 1469\n",
      "Data columns (total 21 columns):\n",
      "EmployeeID                   1470 non-null object\n",
      "Gender                       1465 non-null object\n",
      "Age                          1466 non-null float64\n",
      "Education                    1470 non-null object\n",
      "EducationType                1470 non-null object\n",
      "MaritalStatus                1470 non-null object\n",
      "TotalCompanies               1462 non-null float64\n",
      "TotalExperience              1464 non-null float64\n",
      "DistanceToOffice             1429 non-null float64\n",
      "Department                   1470 non-null object\n",
      "Traveltype_last_year         1470 non-null object\n",
      "BillingRate                  1454 non-null float64\n",
      "MonthlyIncome                1470 non-null float64\n",
      "Years_at_Company             1260 non-null float64\n",
      "Years_InCurrentRole          1287 non-null float64\n",
      "LastSalaryHike               1470 non-null int64\n",
      "PotentialReview              1470 non-null object\n",
      "PerformanceReview            1470 non-null object\n",
      "SatisfactionScore            1470 non-null object\n",
      "JobRole_SatisfactionScore    1470 non-null object\n",
      "Overall_SatisfactionScore    1470 non-null object\n",
      "dtypes: float64(8), int64(1), object(12)\n",
      "memory usage: 241.3+ KB\n"
     ]
    }
   ],
   "source": [
    "df.info()"
   ]
  },
  {
   "cell_type": "markdown",
   "metadata": {},
   "source": [
    "## Check for outliers"
   ]
  },
  {
   "cell_type": "code",
   "execution_count": 23,
   "metadata": {},
   "outputs": [],
   "source": [
    "import numpy as np\n",
    "\n",
    "def outliers_iqr(ys):\n",
    "    quartile_1 = ys.quantile(0.25)\n",
    "    quartile_3 = ys.quantile(0.75)\n",
    "    iqr = quartile_3 - quartile_1\n",
    "    lower_bound = quartile_1 - (iqr * 1.5)\n",
    "    upper_bound = quartile_3 + (iqr * 1.5)\n",
    "    return np.where((ys > upper_bound) | (ys < lower_bound))"
   ]
  },
  {
   "cell_type": "code",
   "execution_count": 31,
   "metadata": {},
   "outputs": [
    {
     "data": {
      "text/plain": [
       "16"
      ]
     },
     "execution_count": 31,
     "metadata": {},
     "output_type": "execute_result"
    }
   ],
   "source": [
    "len(outliers_iqr(df['Years_InCurrentRole'])[0])"
   ]
  },
  {
   "cell_type": "code",
   "execution_count": 32,
   "metadata": {},
   "outputs": [
    {
     "data": {
      "text/plain": [
       "53"
      ]
     },
     "execution_count": 32,
     "metadata": {},
     "output_type": "execute_result"
    }
   ],
   "source": [
    "len(outliers_iqr(df['Years_at_Company'])[0])"
   ]
  },
  {
   "cell_type": "code",
   "execution_count": 33,
   "metadata": {},
   "outputs": [],
   "source": [
    "df.dropna(subset=['Age','Gender'],inplace=True)"
   ]
  },
  {
   "cell_type": "code",
   "execution_count": 34,
   "metadata": {},
   "outputs": [
    {
     "name": "stdout",
     "output_type": "stream",
     "text": [
      "<class 'pandas.core.frame.DataFrame'>\n",
      "Int64Index: 1461 entries, 0 to 1469\n",
      "Data columns (total 21 columns):\n",
      "EmployeeID                   1461 non-null object\n",
      "Gender                       1461 non-null object\n",
      "Age                          1461 non-null float64\n",
      "Education                    1461 non-null object\n",
      "EducationType                1461 non-null object\n",
      "MaritalStatus                1461 non-null object\n",
      "TotalCompanies               1453 non-null float64\n",
      "TotalExperience              1455 non-null float64\n",
      "DistanceToOffice             1421 non-null float64\n",
      "Department                   1461 non-null object\n",
      "Traveltype_last_year         1461 non-null object\n",
      "BillingRate                  1445 non-null float64\n",
      "MonthlyIncome                1461 non-null float64\n",
      "Years_at_Company             1252 non-null float64\n",
      "Years_InCurrentRole          1279 non-null float64\n",
      "LastSalaryHike               1461 non-null int64\n",
      "PotentialReview              1461 non-null object\n",
      "PerformanceReview            1461 non-null object\n",
      "SatisfactionScore            1461 non-null object\n",
      "JobRole_SatisfactionScore    1461 non-null object\n",
      "Overall_SatisfactionScore    1461 non-null object\n",
      "dtypes: float64(8), int64(1), object(12)\n",
      "memory usage: 251.1+ KB\n"
     ]
    }
   ],
   "source": [
    "df.info()"
   ]
  },
  {
   "cell_type": "code",
   "execution_count": null,
   "metadata": {},
   "outputs": [],
   "source": []
  }
 ],
 "metadata": {
  "kernelspec": {
   "display_name": "Python 3",
   "language": "python",
   "name": "python3"
  },
  "language_info": {
   "codemirror_mode": {
    "name": "ipython",
    "version": 3
   },
   "file_extension": ".py",
   "mimetype": "text/x-python",
   "name": "python",
   "nbconvert_exporter": "python",
   "pygments_lexer": "ipython3",
   "version": "3.7.4"
  }
 },
 "nbformat": 4,
 "nbformat_minor": 2
}
